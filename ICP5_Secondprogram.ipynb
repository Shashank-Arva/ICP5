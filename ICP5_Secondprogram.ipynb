{
 "cells": [
  {
   "cell_type": "code",
   "execution_count": 2,
   "id": "fceb7cee-82fc-4270-887e-849dad2cc81f",
   "metadata": {},
   "outputs": [
    {
     "name": "stdout",
     "output_type": "stream",
     "text": [
      "              precision    recall  f1-score   support\n",
      "\n",
      "           1       0.21      1.00      0.35         9\n",
      "           2       0.00      0.00      0.00        19\n",
      "           3       0.00      0.00      0.00         5\n",
      "           5       0.00      0.00      0.00         2\n",
      "           6       0.00      0.00      0.00         2\n",
      "           7       0.00      0.00      0.00         6\n",
      "\n",
      "    accuracy                           0.21        43\n",
      "   macro avg       0.03      0.17      0.06        43\n",
      "weighted avg       0.04      0.21      0.07        43\n",
      "\n",
      "SVM accuracy is:  20.930232558139537\n"
     ]
    }
   ],
   "source": [
    "import pandas as pd\n",
    "from sklearn.model_selection import train_test_split\n",
    "from sklearn.svm import SVC\n",
    "from sklearn.metrics import classification_report, accuracy_score\n",
    "\n",
    "# Loading the glass dataset\n",
    "glass_data = pd.read_csv('glass.csv')\n",
    "\n",
    "# Separating the dataset into features (x) and the target variable (y)\n",
    "x_train_data = glass_data.drop(\"Type\", axis=1)\n",
    "y_train_data = glass_data['Type']\n",
    "\n",
    "# Splitting the dataset into training and testing sets\n",
    "x_train_set, x_test_set, y_train_set, y_test_set = train_test_split(x_train_data, y_train_data, test_size=0.2, random_state=0)\n",
    "\n",
    "# Initializing and training the Support Vector Machine (SVM) model\n",
    "svm_model = SVC()\n",
    "svm_model.fit(x_train_set, y_train_set)\n",
    "\n",
    "# Making predictions on the test set\n",
    "predicted_values = svm_model.predict(x_test_set)\n",
    "\n",
    "# Generating and printing the classification report\n",
    "classification_rep = classification_report(y_test_set, predicted_values, zero_division=0)\n",
    "print(classification_rep)\n",
    "\n",
    "# Printing the SVM accuracy\n",
    "accuracy_percentage = accuracy_score(y_test_set, predicted_values) * 100\n",
    "print(\"SVM accuracy is: \", accuracy_percentage)\n"
   ]
  },
  {
   "cell_type": "code",
   "execution_count": null,
   "id": "384d0ade-5c3b-47b6-a332-4f5a2848475e",
   "metadata": {},
   "outputs": [],
   "source": []
  }
 ],
 "metadata": {
  "kernelspec": {
   "display_name": "Python 3 (ipykernel)",
   "language": "python",
   "name": "python3"
  },
  "language_info": {
   "codemirror_mode": {
    "name": "ipython",
    "version": 3
   },
   "file_extension": ".py",
   "mimetype": "text/x-python",
   "name": "python",
   "nbconvert_exporter": "python",
   "pygments_lexer": "ipython3",
   "version": "3.12.1"
  }
 },
 "nbformat": 4,
 "nbformat_minor": 5
}
