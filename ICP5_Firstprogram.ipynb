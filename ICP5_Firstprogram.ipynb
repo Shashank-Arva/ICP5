{
 "cells": [
  {
   "cell_type": "code",
   "execution_count": 8,
   "id": "d61fa501-5338-406d-ae62-762381ad8838",
   "metadata": {},
   "outputs": [
    {
     "name": "stdout",
     "output_type": "stream",
     "text": [
      "              precision    recall  f1-score   support\n",
      "\n",
      "           1       0.19      0.44      0.27         9\n",
      "           2       0.33      0.16      0.21        19\n",
      "           3       0.33      0.20      0.25         5\n",
      "           5       0.00      0.00      0.00         2\n",
      "           6       0.67      1.00      0.80         2\n",
      "           7       1.00      1.00      1.00         6\n",
      "\n",
      "    accuracy                           0.37        43\n",
      "   macro avg       0.42      0.47      0.42        43\n",
      "weighted avg       0.40      0.37      0.36        43\n",
      "\n",
      "Naive Bayes accuracy is:  37.2093023255814\n"
     ]
    }
   ],
   "source": [
    "import pandas as pd\n",
    "from sklearn.model_selection import train_test_split\n",
    "from sklearn.naive_bayes import GaussianNB\n",
    "from sklearn.metrics import classification_report, accuracy_score\n",
    "\n",
    "# Loading the glass dataset\n",
    "glass_data = pd.read_csv('glass.csv')\n",
    "\n",
    "# Separating the dataset into features (x) and the target variable (y)\n",
    "x_train_data = glass_data.drop(\"Type\", axis=1)\n",
    "y_train_data = glass_data['Type']\n",
    "\n",
    "# Splitting the dataset into training and testing sets\n",
    "x_train_set, x_test_set, y_train_set, y_test_set = train_test_split(x_train_data, y_train_data, test_size=0.2, random_state=0)\n",
    "\n",
    "# Initializing and training the Naive Bayes model\n",
    "naive_bayes_model = GaussianNB()\n",
    "naive_bayes_model.fit(x_train_set, y_train_set)\n",
    "\n",
    "# Making predictions on the test set\n",
    "predicted_values = naive_bayes_model.predict(x_test_set)\n",
    "\n",
    "# Generating and printing the classification report\n",
    "classification_rep = classification_report(y_test_set, predicted_values)\n",
    "print(classification_rep)\n",
    "\n",
    "# Printing the Naive Bayes accuracy\n",
    "accuracy_percentage = accuracy_score(y_test_set, predicted_values) * 100\n",
    "print(\"Naive Bayes accuracy is: \", accuracy_percentage)\n"
   ]
  },
  {
   "cell_type": "code",
   "execution_count": null,
   "id": "5d793e8d-452a-4a17-8899-b429692fa8f9",
   "metadata": {},
   "outputs": [],
   "source": []
  }
 ],
 "metadata": {
  "kernelspec": {
   "display_name": "Python 3 (ipykernel)",
   "language": "python",
   "name": "python3"
  },
  "language_info": {
   "codemirror_mode": {
    "name": "ipython",
    "version": 3
   },
   "file_extension": ".py",
   "mimetype": "text/x-python",
   "name": "python",
   "nbconvert_exporter": "python",
   "pygments_lexer": "ipython3",
   "version": "3.12.1"
  }
 },
 "nbformat": 4,
 "nbformat_minor": 5
}
